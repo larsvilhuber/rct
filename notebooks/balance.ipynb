{
 "cells": [
  {
   "cell_type": "code",
   "execution_count": 3,
   "metadata": {},
   "outputs": [],
   "source": [
    "import pandas as pd\n",
    "import numpy as np\n",
    "from itertools import combinations\n",
    "from statsmodels.formula.api import ols"
   ]
  },
  {
   "cell_type": "code",
   "execution_count": 4,
   "metadata": {},
   "outputs": [],
   "source": [
    "np.random.seed(0)\n",
    "\n",
    "df = pd.DataFrame(data=np.random.rand(10, 2), columns=['a', 'b'])\n",
    "assignment = set(np.random.choice(df.index, size=5, replace=False))"
   ]
  },
  {
   "cell_type": "code",
   "execution_count": 5,
   "metadata": {},
   "outputs": [
    {
     "data": {
      "text/plain": [
       "[array([False, False, False, False,  True,  True,  True,  True, False,\n",
       "         True]),\n",
       " array([False, False,  True,  True, False, False, False, False, False,\n",
       "        False]),\n",
       " array([ True,  True, False, False, False, False, False, False,  True,\n",
       "        False])]"
      ]
     },
     "execution_count": 5,
     "metadata": {},
     "output_type": "execute_result"
    }
   ],
   "source": [
    "def assignment_indices(df, assignments):\n",
    "    idxs = [df.index.isin(a) for a in assignments]\n",
    "    total_assignments = np.add(*idxs) if len(idxs) > 1 else idxs[0]\n",
    "    if not total_assignments.min():\n",
    "        idxs.append(~total_assignments)\n",
    "    return idxs\n",
    "\n",
    "assignment_indices(df, [assignment, [2, 3]])"
   ]
  },
  {
   "cell_type": "code",
   "execution_count": 6,
   "metadata": {},
   "outputs": [],
   "source": [
    "def mahalanobis(df, assignments, agg_assign=np.max):\n",
    "    means = [df.loc[idx].mean() \n",
    "             for idx in assignment_indices(df, assignments)]\n",
    "    inverse_cov = np.linalg.inv(df.cov())\n",
    "    mean_diffs = [m1 - m2 for m1, m2 in combinations(means, 2)]    \n",
    "    return agg_assign([mean_diff @ inverse_cov @ mean_diff for mean_diff in mean_diffs])"
   ]
  },
  {
   "cell_type": "code",
   "execution_count": 7,
   "metadata": {},
   "outputs": [
    {
     "data": {
      "text/plain": [
       "[1.1719512986317402, 0.999298988844019, 0.08496754158529106]"
      ]
     },
     "execution_count": 7,
     "metadata": {},
     "output_type": "execute_result"
    }
   ],
   "source": [
    "mahalanobis(df, [assignment, [2, 3]], agg_assign=lambda x: x)"
   ]
  },
  {
   "cell_type": "code",
   "execution_count": 8,
   "metadata": {},
   "outputs": [],
   "source": [
    "def ols_on_treatment(col, df, assignments):\n",
    "    treatment_dummies = pd.DataFrame(\n",
    "        dict((('t{}'.format(i), df.index.isin(assignment)) for i, assignment in enumerate(assignments)))\n",
    "    )\n",
    "    data = pd.concat((df, treatment_dummies), axis=1)\n",
    "    return ols('{} ~ 1 + {}'.format(col, ' + '.join(treatment_dummies.columns)), \n",
    "               data=data).fit()\n",
    "\n",
    "\n",
    "def pvalues(df, assignment):\n",
    "    return dict((col, \n",
    "                 ols_on_treatment(col, df, assignment).pvalues.iloc[1:].values) for col in df.columns)    "
   ]
  },
  {
   "cell_type": "code",
   "execution_count": 9,
   "metadata": {},
   "outputs": [
    {
     "data": {
      "text/html": [
       "<div>\n",
       "<style scoped>\n",
       "    .dataframe tbody tr th:only-of-type {\n",
       "        vertical-align: middle;\n",
       "    }\n",
       "\n",
       "    .dataframe tbody tr th {\n",
       "        vertical-align: top;\n",
       "    }\n",
       "\n",
       "    .dataframe thead th {\n",
       "        text-align: right;\n",
       "    }\n",
       "</style>\n",
       "<table border=\"1\" class=\"dataframe\">\n",
       "  <thead>\n",
       "    <tr style=\"text-align: right;\">\n",
       "      <th></th>\n",
       "      <th>a</th>\n",
       "      <th>b</th>\n",
       "    </tr>\n",
       "  </thead>\n",
       "  <tbody>\n",
       "    <tr>\n",
       "      <td>0</td>\n",
       "      <td>0.320395</td>\n",
       "      <td>0.523023</td>\n",
       "    </tr>\n",
       "    <tr>\n",
       "      <td>1</td>\n",
       "      <td>0.892326</td>\n",
       "      <td>0.790063</td>\n",
       "    </tr>\n",
       "  </tbody>\n",
       "</table>\n",
       "</div>"
      ],
      "text/plain": [
       "          a         b\n",
       "0  0.320395  0.523023\n",
       "1  0.892326  0.790063"
      ]
     },
     "execution_count": 9,
     "metadata": {},
     "output_type": "execute_result"
    }
   ],
   "source": [
    "pv = pd.DataFrame(pvalues(df, [assignment, [2, 3]]))\n",
    "pv"
   ]
  },
  {
   "cell_type": "code",
   "execution_count": 27,
   "metadata": {},
   "outputs": [
    {
     "data": {
      "text/plain": [
       "1"
      ]
     },
     "execution_count": 27,
     "metadata": {},
     "output_type": "execute_result"
    }
   ],
   "source": [
    "d = {'a':1, 'b':2}\n",
    "next(iter(d.values()))"
   ]
  },
  {
   "cell_type": "code",
   "execution_count": 14,
   "metadata": {},
   "outputs": [
    {
     "name": "stdout",
     "output_type": "stream",
     "text": [
      "    0.0  1.0  2.0\n",
      "t0    1    1    3\n",
      "t1    1    3    1 \n",
      "\n",
      "0.0    0.0\n",
      "1.0    0.5\n",
      "2.0    0.5\n",
      "dtype: float64\n"
     ]
    }
   ],
   "source": [
    "def count_by_col(col, df, assignments):\n",
    "    cat = sorted(list(set(df[col])))\n",
    "    idxs = assignment_indices(df, assignments)\n",
    "    count = [[sum(df[col].loc[idx]==v) for v in cat] for idx in idxs]\n",
    "        \n",
    "    return pd.DataFrame(data=count, columns=cat, index=['t{}'.format(i) for i in range(len(idxs))])\n",
    "    \n",
    "\n",
    "def relative_block_balance(df_count, agg_assignments=lambda x: np.max(np.abs(x),axis=0)):\n",
    "    relative_dev = (df_count - df_count.median())/df_count.median()\n",
    "    return agg_assignments(relative_dev)\n",
    "\n",
    "df['cat'] = 0. * (df['a'] < .3) + 1. * df['a'].between(.3, .6) + 2. * (df['a'] > .6)\n",
    "print(count_by_col('cat', df, [assignment]), '\\n')\n",
    "print(relative_block_balance(count_by_col('cat', df, [assignment])))"
   ]
  }
 ],
 "metadata": {
  "kernelspec": {
   "display_name": "Python 3",
   "language": "python",
   "name": "python3"
  },
  "language_info": {
   "codemirror_mode": {
    "name": "ipython",
    "version": 3
   },
   "file_extension": ".py",
   "mimetype": "text/x-python",
   "name": "python",
   "nbconvert_exporter": "python",
   "pygments_lexer": "ipython3",
   "version": "3.6.9"
  }
 },
 "nbformat": 4,
 "nbformat_minor": 2
}
