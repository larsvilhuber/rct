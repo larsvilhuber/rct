{
 "cells": [
  {
   "cell_type": "code",
   "execution_count": 26,
   "metadata": {},
   "outputs": [],
   "source": [
    "import pandas as pd\n",
    "import numpy as np\n",
    "from itertools import combinations\n",
    "from statsmodels.formula.api import ols"
   ]
  },
  {
   "cell_type": "code",
   "execution_count": 3,
   "metadata": {},
   "outputs": [],
   "source": [
    "np.random.seed(0)\n",
    "\n",
    "df = pd.DataFrame(data=np.random.rand(10, 2), columns=['a', 'b'])\n",
    "assignment = set(np.random.choice(df.index, size=5, replace=False))"
   ]
  },
  {
   "cell_type": "code",
   "execution_count": 4,
   "metadata": {},
   "outputs": [],
   "source": [
    "df_a = df.loc[df.index.isin(assignment)]\n",
    "df_b = df.loc[~df.index.isin(assignment)]"
   ]
  },
  {
   "cell_type": "code",
   "execution_count": 5,
   "metadata": {},
   "outputs": [
    {
     "data": {
      "text/html": [
       "<div>\n",
       "<style scoped>\n",
       "    .dataframe tbody tr th:only-of-type {\n",
       "        vertical-align: middle;\n",
       "    }\n",
       "\n",
       "    .dataframe tbody tr th {\n",
       "        vertical-align: top;\n",
       "    }\n",
       "\n",
       "    .dataframe thead th {\n",
       "        text-align: right;\n",
       "    }\n",
       "</style>\n",
       "<table border=\"1\" class=\"dataframe\">\n",
       "  <thead>\n",
       "    <tr style=\"text-align: right;\">\n",
       "      <th></th>\n",
       "      <th>a</th>\n",
       "      <th>b</th>\n",
       "    </tr>\n",
       "  </thead>\n",
       "  <tbody>\n",
       "    <tr>\n",
       "      <td>a</td>\n",
       "      <td>0.090525</td>\n",
       "      <td>0.006000</td>\n",
       "    </tr>\n",
       "    <tr>\n",
       "      <td>b</td>\n",
       "      <td>0.006000</td>\n",
       "      <td>0.070385</td>\n",
       "    </tr>\n",
       "  </tbody>\n",
       "</table>\n",
       "</div>"
      ],
      "text/plain": [
       "          a         b\n",
       "a  0.090525  0.006000\n",
       "b  0.006000  0.070385"
      ]
     },
     "execution_count": 5,
     "metadata": {},
     "output_type": "execute_result"
    }
   ],
   "source": [
    "df.cov()"
   ]
  },
  {
   "cell_type": "code",
   "execution_count": 6,
   "metadata": {},
   "outputs": [
    {
     "data": {
      "text/plain": [
       "(2, 2)"
      ]
     },
     "execution_count": 6,
     "metadata": {},
     "output_type": "execute_result"
    }
   ],
   "source": [
    "inverse_cov = np.linalg.inv(df.cov())\n",
    "inverse_cov.shape"
   ]
  },
  {
   "cell_type": "code",
   "execution_count": 7,
   "metadata": {},
   "outputs": [
    {
     "data": {
      "text/plain": [
       "array([[11.10942969, -0.94700726],\n",
       "       [-0.94700726, 14.28826789]])"
      ]
     },
     "execution_count": 7,
     "metadata": {},
     "output_type": "execute_result"
    }
   ],
   "source": [
    "inverse_cov"
   ]
  },
  {
   "cell_type": "code",
   "execution_count": 8,
   "metadata": {},
   "outputs": [
    {
     "data": {
      "text/plain": [
       "a    0.227918\n",
       "b   -0.167057\n",
       "dtype: float64"
      ]
     },
     "execution_count": 8,
     "metadata": {},
     "output_type": "execute_result"
    }
   ],
   "source": [
    "mean_diff = df_a.mean() - df_b.mean()\n",
    "mean_diff"
   ]
  },
  {
   "cell_type": "code",
   "execution_count": 9,
   "metadata": {},
   "outputs": [
    {
     "data": {
      "text/plain": [
       "array([ 2.69023848, -2.60279472])"
      ]
     },
     "execution_count": 9,
     "metadata": {},
     "output_type": "execute_result"
    }
   ],
   "source": [
    "(inverse_cov @ mean_diff)"
   ]
  },
  {
   "cell_type": "code",
   "execution_count": 10,
   "metadata": {},
   "outputs": [],
   "source": [
    "import types\n",
    "import collections\n",
    "import numbers"
   ]
  },
  {
   "cell_type": "code",
   "execution_count": 11,
   "metadata": {},
   "outputs": [
    {
     "data": {
      "text/html": [
       "<div>\n",
       "<style scoped>\n",
       "    .dataframe tbody tr th:only-of-type {\n",
       "        vertical-align: middle;\n",
       "    }\n",
       "\n",
       "    .dataframe tbody tr th {\n",
       "        vertical-align: top;\n",
       "    }\n",
       "\n",
       "    .dataframe thead th {\n",
       "        text-align: right;\n",
       "    }\n",
       "</style>\n",
       "<table border=\"1\" class=\"dataframe\">\n",
       "  <thead>\n",
       "    <tr style=\"text-align: right;\">\n",
       "      <th></th>\n",
       "      <th>a</th>\n",
       "      <th>b</th>\n",
       "    </tr>\n",
       "  </thead>\n",
       "  <tbody>\n",
       "    <tr>\n",
       "      <td>4</td>\n",
       "      <td>1.512476</td>\n",
       "      <td>1.098631</td>\n",
       "    </tr>\n",
       "    <tr>\n",
       "      <td>5</td>\n",
       "      <td>1.394488</td>\n",
       "      <td>1.073778</td>\n",
       "    </tr>\n",
       "    <tr>\n",
       "      <td>6</td>\n",
       "      <td>0.991699</td>\n",
       "      <td>1.571491</td>\n",
       "    </tr>\n",
       "    <tr>\n",
       "      <td>7</td>\n",
       "      <td>0.508623</td>\n",
       "      <td>0.978902</td>\n",
       "    </tr>\n",
       "    <tr>\n",
       "      <td>9</td>\n",
       "      <td>0.798375</td>\n",
       "      <td>1.702632</td>\n",
       "    </tr>\n",
       "  </tbody>\n",
       "</table>\n",
       "</div>"
      ],
      "text/plain": [
       "          a         b\n",
       "4  1.512476  1.098631\n",
       "5  1.394488  1.073778\n",
       "6  0.991699  1.571491\n",
       "7  0.508623  0.978902\n",
       "9  0.798375  1.702632"
      ]
     },
     "execution_count": 11,
     "metadata": {},
     "output_type": "execute_result"
    }
   ],
   "source": [
    "np.add(*[df_a, df_b])"
   ]
  },
  {
   "cell_type": "code",
   "execution_count": 12,
   "metadata": {},
   "outputs": [
    {
     "data": {
      "text/plain": [
       "[array([False, False, False, False,  True,  True,  True,  True, False,\n",
       "         True]),\n",
       " array([False, False,  True,  True, False, False, False, False, False,\n",
       "        False]),\n",
       " array([ True,  True, False, False, False, False, False, False,  True,\n",
       "        False])]"
      ]
     },
     "execution_count": 12,
     "metadata": {},
     "output_type": "execute_result"
    }
   ],
   "source": [
    "def assignment_indices(df, assignments):\n",
    "    idxs = [df.index.isin(a) for a in assignments]\n",
    "    total_assignments = np.add(*idxs) if len(idxs) > 1 else idxs[0]\n",
    "    if not total_assignments.min():\n",
    "        idxs.append(~total_assignments)\n",
    "    return idxs\n",
    "\n",
    "assignment_indices(df, [assignment, [2, 3]])"
   ]
  },
  {
   "cell_type": "code",
   "execution_count": 13,
   "metadata": {},
   "outputs": [],
   "source": [
    "def mahalanobis(df, assignments, agg_assign=np.max):\n",
    "    means = [df.loc[idx].mean() \n",
    "             for idx in assignment_indices(df, assignments)]\n",
    "    inverse_cov = np.linalg.inv(df.cov())\n",
    "    mean_diffs = [m1 - m2 for m1, m2 in combinations(means, 2)]    \n",
    "    return agg_assign([mean_diff @ inverse_cov @ mean_diff for mean_diff in mean_diffs])"
   ]
  },
  {
   "cell_type": "code",
   "execution_count": 17,
   "metadata": {},
   "outputs": [
    {
     "data": {
      "text/plain": [
       "[1.1719512986317402, 0.999298988844019, 0.08496754158529106]"
      ]
     },
     "execution_count": 17,
     "metadata": {},
     "output_type": "execute_result"
    }
   ],
   "source": [
    "mahalanobis(df, [assignment, [2, 3]], agg_assign=lambda x: x)"
   ]
  },
  {
   "cell_type": "code",
   "execution_count": 91,
   "metadata": {},
   "outputs": [],
   "source": []
  },
  {
   "cell_type": "code",
   "execution_count": 111,
   "metadata": {},
   "outputs": [],
   "source": [
    "model = ols('a ~ 1 + t1', data=pd.concat((df, \n",
    "                                     pd.DataFrame(df.index.isin(assignment), \n",
    "                                                  columns=['t1'])), \n",
    "                                     axis=1)\n",
    "           )    "
   ]
  },
  {
   "cell_type": "code",
   "execution_count": 112,
   "metadata": {},
   "outputs": [],
   "source": [
    "res = model.fit()"
   ]
  },
  {
   "cell_type": "code",
   "execution_count": 113,
   "metadata": {},
   "outputs": [
    {
     "data": {
      "text/plain": [
       "0.804341767046624"
      ]
     },
     "execution_count": 113,
     "metadata": {},
     "output_type": "execute_result"
    }
   ],
   "source": [
    "res.pvalues.iloc[1]"
   ]
  },
  {
   "cell_type": "code",
   "execution_count": 22,
   "metadata": {},
   "outputs": [
    {
     "data": {
      "text/plain": [
       "{'t0': array([False, False, False, False,  True,  True,  True,  True, False,\n",
       "         True]),\n",
       " 't1': array([False, False,  True,  True, False, False, False, False, False,\n",
       "        False])}"
      ]
     },
     "execution_count": 22,
     "metadata": {},
     "output_type": "execute_result"
    }
   ],
   "source": [
    "dict(('t{}'.format(i), df.index.isin(assignment)) for i, assignment in enumerate([assignment, [2, 3]]))"
   ]
  },
  {
   "cell_type": "code",
   "execution_count": 27,
   "metadata": {},
   "outputs": [],
   "source": [
    "def ols_on_treatment(col, df, assignments):\n",
    "    treatment_dummies = pd.DataFrame(\n",
    "        dict((('t{}'.format(i), df.index.isin(assignment)) for i, assignment in enumerate(assignments)))\n",
    "    )\n",
    "    data = pd.concat((df, treatment_dummies), axis=1)\n",
    "    return ols('{} ~ 1 + {}'.format(col, ' + '.join(treatment_dummies.columns)), \n",
    "               data=data).fit()\n",
    "\n",
    "\n",
    "def pvalues(df, assignment):\n",
    "    return dict((col, \n",
    "                 ols_on_treatment(col, df, assignment).pvalues.iloc[1:].values) for col in df.columns)    "
   ]
  },
  {
   "cell_type": "code",
   "execution_count": 31,
   "metadata": {},
   "outputs": [
    {
     "data": {
      "text/html": [
       "<div>\n",
       "<style scoped>\n",
       "    .dataframe tbody tr th:only-of-type {\n",
       "        vertical-align: middle;\n",
       "    }\n",
       "\n",
       "    .dataframe tbody tr th {\n",
       "        vertical-align: top;\n",
       "    }\n",
       "\n",
       "    .dataframe thead th {\n",
       "        text-align: right;\n",
       "    }\n",
       "</style>\n",
       "<table border=\"1\" class=\"dataframe\">\n",
       "  <thead>\n",
       "    <tr style=\"text-align: right;\">\n",
       "      <th></th>\n",
       "      <th>a</th>\n",
       "      <th>b</th>\n",
       "    </tr>\n",
       "  </thead>\n",
       "  <tbody>\n",
       "    <tr>\n",
       "      <td>0</td>\n",
       "      <td>0.320395</td>\n",
       "      <td>0.523023</td>\n",
       "    </tr>\n",
       "    <tr>\n",
       "      <td>1</td>\n",
       "      <td>0.892326</td>\n",
       "      <td>0.790063</td>\n",
       "    </tr>\n",
       "  </tbody>\n",
       "</table>\n",
       "</div>"
      ],
      "text/plain": [
       "          a         b\n",
       "0  0.320395  0.523023\n",
       "1  0.892326  0.790063"
      ]
     },
     "execution_count": 31,
     "metadata": {},
     "output_type": "execute_result"
    }
   ],
   "source": [
    "pv = pd.DataFrame(pvalues(df, [assignment, [2, 3]]))\n",
    "pv"
   ]
  },
  {
   "cell_type": "code",
   "execution_count": 32,
   "metadata": {},
   "outputs": [
    {
     "data": {
      "text/plain": [
       "a    0.892326\n",
       "b    0.790063\n",
       "dtype: float64"
      ]
     },
     "execution_count": 32,
     "metadata": {},
     "output_type": "execute_result"
    }
   ],
   "source": [
    "pv.apply(np.max, axis=0)"
   ]
  },
  {
   "cell_type": "code",
   "execution_count": 36,
   "metadata": {},
   "outputs": [
    {
     "data": {
      "text/plain": [
       "0    2\n",
       "dtype: int64"
      ]
     },
     "execution_count": 36,
     "metadata": {},
     "output_type": "execute_result"
    }
   ],
   "source": [
    "pd.DataFrame({'a':[1], 'b':[2]}).apply(np.max, axis=1)"
   ]
  },
  {
   "cell_type": "code",
   "execution_count": 156,
   "metadata": {},
   "outputs": [],
   "source": [
    "class NumericFunction:\n",
    "    @classmethod\n",
    "    def numerize(cls, f):\n",
    "        return NumericFunction(f)\n",
    "    \n",
    "    def __init__(self, f):\n",
    "        self.func = f\n",
    "        \n",
    "    def __call__(self, x):\n",
    "        return self.func(x)\n",
    "    \n",
    "    def __add__(self, other):\n",
    "        return self.numerize(lambda x: self(x) + other(x))\n",
    "    \n",
    "    def __radd__(self, other):\n",
    "        return self.__add__(self, other)\n",
    "    \n",
    "    def __mul__(self, other):\n",
    "        if isinstance(other, numbers.Number):\n",
    "            return self.numerize(lambda x: self(x) * other)\n",
    "        else:\n",
    "            return self.numerize(lambda x: self(x) * other(x))\n",
    "        \n",
    "    def __rmul__(self, other):\n",
    "        return self.__mul__(other)\n",
    "    \n",
    "    @property\n",
    "    def __str__(self):\n",
    "        return 'NumericFunction: number valued function'\n",
    "\n",
    "    \n",
    "@NumericFunction.numerize\n",
    "def f(x):\n",
    "    x1, x2 = x\n",
    "    return 2 * x1 + 3 * x2 \n",
    "\n",
    "def g(x):\n",
    "    x1, x2 = x\n",
    "    return 3 * x1\n",
    "\n",
    "h = .6 * f + g"
   ]
  },
  {
   "cell_type": "code",
   "execution_count": 157,
   "metadata": {},
   "outputs": [
    {
     "data": {
      "text/plain": [
       "7.8"
      ]
     },
     "execution_count": 157,
     "metadata": {},
     "output_type": "execute_result"
    }
   ],
   "source": [
    "h((1, 2))"
   ]
  },
  {
   "cell_type": "code",
   "execution_count": 182,
   "metadata": {},
   "outputs": [
    {
     "data": {
      "text/plain": [
       "(    a\n",
       " 0   0\n",
       " 1   0\n",
       " 2   2\n",
       " 3   2\n",
       " 4   0\n",
       " 5   0\n",
       " 6   0\n",
       " 7   1\n",
       " 8   2\n",
       " 9   0\n",
       " 10  0\n",
       " 11  1\n",
       " 12  0\n",
       " 13  2\n",
       " 14  1\n",
       " 15  1\n",
       " 16  1\n",
       " 17  0\n",
       " 18  0\n",
       " 19  0, {2, 3, 5, 7, 10, 12, 15, 17, 18, 19})"
      ]
     },
     "execution_count": 182,
     "metadata": {},
     "output_type": "execute_result"
    }
   ],
   "source": [
    "df = pd.DataFrame(data=np.random.randint(0, 3, 20), columns=['a'])\n",
    "assignment = assignment = set(np.random.choice(df.index, size=10, replace=False))\n",
    "df, assignment"
   ]
  },
  {
   "cell_type": "code",
   "execution_count": 194,
   "metadata": {},
   "outputs": [
    {
     "name": "stdout",
     "output_type": "stream",
     "text": [
      "    0  1  2\n",
      "t0  6  2  2\n",
      "t1  5  3  2 \n",
      "\n",
      "0    0.090909\n",
      "1    0.200000\n",
      "2    0.000000\n",
      "dtype: float64\n"
     ]
    }
   ],
   "source": [
    "def count_by_col(col, df, assignments):\n",
    "    cat = sorted(list(set(df[col])))\n",
    "    idxs = assignment_indices(df, assignments)\n",
    "    count = [[sum(df[col].loc[idx]==v) for v in cat] for idx in idxs]\n",
    "        \n",
    "    return pd.DataFrame(data=count, columns=cat, index=['t{}'.format(i) for i in range(len(idxs))])\n",
    "    \n",
    "\n",
    "def relative_block_balance(df_count, agg_assignments=lambda x: np.max(np.abs(x),axis=0)):\n",
    "    relative_dev = (df_count - df_count.median())/df_count.median()\n",
    "    return agg_assignments(relative_dev)\n",
    "                           \n",
    "print(count_by_col('a', df, [assignment]), '\\n')\n",
    "print(relative_block_balance(count_by_col('a', df, [assignment])))"
   ]
  },
  {
   "cell_type": "code",
   "execution_count": 172,
   "metadata": {},
   "outputs": [
    {
     "data": {
      "text/plain": [
       "[('a', 1), ('a', 2), ('b', 1), ('b', 2)]"
      ]
     },
     "execution_count": 172,
     "metadata": {},
     "output_type": "execute_result"
    }
   ],
   "source": [
    "from itertools import product\n",
    "[(a, b) for a, b in product(['a', 'b'], [1, 2])]"
   ]
  },
  {
   "cell_type": "code",
   "execution_count": 173,
   "metadata": {},
   "outputs": [
    {
     "data": {
      "text/plain": [
       "[('a', 1), ('a', 2), ('b', 1), ('b', 2)]"
      ]
     },
     "execution_count": 173,
     "metadata": {},
     "output_type": "execute_result"
    }
   ],
   "source": [
    "[(a, b) for a in ['a', 'b'] for b in [1, 2]]"
   ]
  },
  {
   "cell_type": "code",
   "execution_count": null,
   "metadata": {},
   "outputs": [],
   "source": []
  }
 ],
 "metadata": {
  "kernelspec": {
   "display_name": "Python 3",
   "language": "python",
   "name": "python3"
  },
  "language_info": {
   "codemirror_mode": {
    "name": "ipython",
    "version": 3
   },
   "file_extension": ".py",
   "mimetype": "text/x-python",
   "name": "python",
   "nbconvert_exporter": "python",
   "pygments_lexer": "ipython3",
   "version": "3.6.9"
  }
 },
 "nbformat": 4,
 "nbformat_minor": 2
}
