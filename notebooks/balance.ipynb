{
 "cells": [
  {
   "cell_type": "code",
   "execution_count": 2,
   "metadata": {},
   "outputs": [],
   "source": [
    "import pandas as pd\n",
    "import numpy as np"
   ]
  },
  {
   "cell_type": "code",
   "execution_count": 16,
   "metadata": {},
   "outputs": [],
   "source": [
    "np.random.seed(0)\n",
    "\n",
    "df = pd.DataFrame(data=np.random.rand(20, 3), columns=['a', 'b', 'c'])"
   ]
  },
  {
   "cell_type": "code",
   "execution_count": 17,
   "metadata": {},
   "outputs": [],
   "source": [
    "assignment = set(np.random.choice(df.index, size=10, replace=False))"
   ]
  },
  {
   "cell_type": "code",
   "execution_count": 18,
   "metadata": {},
   "outputs": [],
   "source": [
    "df_a = df.loc[df.index.isin(assignment)]\n",
    "df_b = df.loc[~df.index.isin(assignment)]"
   ]
  },
  {
   "cell_type": "code",
   "execution_count": 31,
   "metadata": {},
   "outputs": [
    {
     "data": {
      "text/html": [
       "<div>\n",
       "<style scoped>\n",
       "    .dataframe tbody tr th:only-of-type {\n",
       "        vertical-align: middle;\n",
       "    }\n",
       "\n",
       "    .dataframe tbody tr th {\n",
       "        vertical-align: top;\n",
       "    }\n",
       "\n",
       "    .dataframe thead th {\n",
       "        text-align: right;\n",
       "    }\n",
       "</style>\n",
       "<table border=\"1\" class=\"dataframe\">\n",
       "  <thead>\n",
       "    <tr style=\"text-align: right;\">\n",
       "      <th></th>\n",
       "      <th>a</th>\n",
       "      <th>b</th>\n",
       "      <th>c</th>\n",
       "    </tr>\n",
       "  </thead>\n",
       "  <tbody>\n",
       "    <tr>\n",
       "      <td>a</td>\n",
       "      <td>0.056018</td>\n",
       "      <td>0.004226</td>\n",
       "      <td>0.009859</td>\n",
       "    </tr>\n",
       "    <tr>\n",
       "      <td>b</td>\n",
       "      <td>0.004226</td>\n",
       "      <td>0.097207</td>\n",
       "      <td>-0.013605</td>\n",
       "    </tr>\n",
       "    <tr>\n",
       "      <td>c</td>\n",
       "      <td>0.009859</td>\n",
       "      <td>-0.013605</td>\n",
       "      <td>0.083588</td>\n",
       "    </tr>\n",
       "  </tbody>\n",
       "</table>\n",
       "</div>"
      ],
      "text/plain": [
       "          a         b         c\n",
       "a  0.056018  0.004226  0.009859\n",
       "b  0.004226  0.097207 -0.013605\n",
       "c  0.009859 -0.013605  0.083588"
      ]
     },
     "execution_count": 31,
     "metadata": {},
     "output_type": "execute_result"
    }
   ],
   "source": [
    "df.cov()"
   ]
  },
  {
   "cell_type": "code",
   "execution_count": 32,
   "metadata": {},
   "outputs": [
    {
     "data": {
      "text/plain": [
       "(3, 3)"
      ]
     },
     "execution_count": 32,
     "metadata": {},
     "output_type": "execute_result"
    }
   ],
   "source": [
    "inverse_cov = np.linalg.inv(df.cov())\n",
    "inverse_cov.shape"
   ]
  },
  {
   "cell_type": "code",
   "execution_count": 36,
   "metadata": {},
   "outputs": [
    {
     "data": {
      "text/plain": [
       "array([[18.34946136, -1.12625407, -2.34756231],\n",
       "       [-1.12625407, 10.59628345,  1.85754421],\n",
       "       [-2.34756231,  1.85754421, 12.54260151]])"
      ]
     },
     "execution_count": 36,
     "metadata": {},
     "output_type": "execute_result"
    }
   ],
   "source": [
    "inverse_cov"
   ]
  },
  {
   "cell_type": "code",
   "execution_count": 27,
   "metadata": {},
   "outputs": [
    {
     "data": {
      "text/plain": [
       "a    0.027293\n",
       "b    0.116936\n",
       "c    0.094978\n",
       "dtype: float64"
      ]
     },
     "execution_count": 27,
     "metadata": {},
     "output_type": "execute_result"
    }
   ],
   "source": [
    "mean_diff = df_a.mean() - df_b.mean()\n",
    "mean_diff"
   ]
  },
  {
   "cell_type": "code",
   "execution_count": 28,
   "metadata": {},
   "outputs": [
    {
     "data": {
      "text/plain": [
       "a    0.027293\n",
       "b    0.116936\n",
       "c    0.094978\n",
       "dtype: float64"
      ]
     },
     "execution_count": 28,
     "metadata": {},
     "output_type": "execute_result"
    }
   ],
   "source": [
    "mean_diff."
   ]
  },
  {
   "cell_type": "code",
   "execution_count": 41,
   "metadata": {},
   "outputs": [
    {
     "data": {
      "text/plain": [
       "array([0.14614216, 1.38476993, 1.34441687])"
      ]
     },
     "execution_count": 41,
     "metadata": {},
     "output_type": "execute_result"
    }
   ],
   "source": [
    "(inverse_cov @ mean_diff)"
   ]
  },
  {
   "cell_type": "code",
   "execution_count": 61,
   "metadata": {},
   "outputs": [],
   "source": [
    "import types\n",
    "import collections\n",
    "import numbers"
   ]
  },
  {
   "cell_type": "code",
   "execution_count": 56,
   "metadata": {},
   "outputs": [
    {
     "data": {
      "text/plain": [
       "False"
      ]
     },
     "execution_count": 56,
     "metadata": {},
     "output_type": "execute_result"
    }
   ],
   "source": [
    "from itertools import combinations\n",
    "isinstance(combinations(['a', 'b', 'c'], 2), collections.abc.Generator)"
   ]
  },
  {
   "cell_type": "code",
   "execution_count": 69,
   "metadata": {},
   "outputs": [
    {
     "data": {
      "text/html": [
       "<div>\n",
       "<style scoped>\n",
       "    .dataframe tbody tr th:only-of-type {\n",
       "        vertical-align: middle;\n",
       "    }\n",
       "\n",
       "    .dataframe tbody tr th {\n",
       "        vertical-align: top;\n",
       "    }\n",
       "\n",
       "    .dataframe thead th {\n",
       "        text-align: right;\n",
       "    }\n",
       "</style>\n",
       "<table border=\"1\" class=\"dataframe\">\n",
       "  <thead>\n",
       "    <tr style=\"text-align: right;\">\n",
       "      <th></th>\n",
       "      <th>a</th>\n",
       "      <th>b</th>\n",
       "      <th>c</th>\n",
       "    </tr>\n",
       "  </thead>\n",
       "  <tbody>\n",
       "    <tr>\n",
       "      <td>2</td>\n",
       "      <td>0.986401</td>\n",
       "      <td>1.606962</td>\n",
       "      <td>1.566426</td>\n",
       "    </tr>\n",
       "    <tr>\n",
       "      <td>4</td>\n",
       "      <td>1.112928</td>\n",
       "      <td>1.349251</td>\n",
       "      <td>0.716930</td>\n",
       "    </tr>\n",
       "    <tr>\n",
       "      <td>6</td>\n",
       "      <td>1.161598</td>\n",
       "      <td>1.661737</td>\n",
       "      <td>1.507513</td>\n",
       "    </tr>\n",
       "    <tr>\n",
       "      <td>7</td>\n",
       "      <td>0.886288</td>\n",
       "      <td>0.481698</td>\n",
       "      <td>1.613149</td>\n",
       "    </tr>\n",
       "    <tr>\n",
       "      <td>8</td>\n",
       "      <td>1.062943</td>\n",
       "      <td>1.161769</td>\n",
       "      <td>0.558015</td>\n",
       "    </tr>\n",
       "    <tr>\n",
       "      <td>10</td>\n",
       "      <td>0.946376</td>\n",
       "      <td>1.133742</td>\n",
       "      <td>0.893182</td>\n",
       "    </tr>\n",
       "    <tr>\n",
       "      <td>11</td>\n",
       "      <td>1.239072</td>\n",
       "      <td>0.229172</td>\n",
       "      <td>0.746562</td>\n",
       "    </tr>\n",
       "    <tr>\n",
       "      <td>12</td>\n",
       "      <td>0.927524</td>\n",
       "      <td>0.980645</td>\n",
       "      <td>1.513945</td>\n",
       "    </tr>\n",
       "    <tr>\n",
       "      <td>14</td>\n",
       "      <td>1.136233</td>\n",
       "      <td>1.048599</td>\n",
       "      <td>0.768812</td>\n",
       "    </tr>\n",
       "    <tr>\n",
       "      <td>19</td>\n",
       "      <td>0.462168</td>\n",
       "      <td>0.627620</td>\n",
       "      <td>0.897534</td>\n",
       "    </tr>\n",
       "  </tbody>\n",
       "</table>\n",
       "</div>"
      ],
      "text/plain": [
       "           a         b         c\n",
       "2   0.986401  1.606962  1.566426\n",
       "4   1.112928  1.349251  0.716930\n",
       "6   1.161598  1.661737  1.507513\n",
       "7   0.886288  0.481698  1.613149\n",
       "8   1.062943  1.161769  0.558015\n",
       "10  0.946376  1.133742  0.893182\n",
       "11  1.239072  0.229172  0.746562\n",
       "12  0.927524  0.980645  1.513945\n",
       "14  1.136233  1.048599  0.768812\n",
       "19  0.462168  0.627620  0.897534"
      ]
     },
     "execution_count": 69,
     "metadata": {},
     "output_type": "execute_result"
    }
   ],
   "source": [
    "np.add(*[df_a, df_b])"
   ]
  },
  {
   "cell_type": "code",
   "execution_count": 70,
   "metadata": {},
   "outputs": [
    {
     "data": {
      "text/plain": [
       "False"
      ]
     },
     "execution_count": 70,
     "metadata": {},
     "output_type": "execute_result"
    }
   ],
   "source": [
    "min(True, False)"
   ]
  },
  {
   "cell_type": "code",
   "execution_count": 86,
   "metadata": {},
   "outputs": [
    {
     "data": {
      "text/plain": [
       "[array([False, False,  True, False,  True, False,  True,  True,  True,\n",
       "        False,  True,  True,  True, False,  True, False, False, False,\n",
       "        False,  True]),\n",
       " array([False, False, False,  True, False,  True, False, False, False,\n",
       "        False, False, False, False, False, False, False, False, False,\n",
       "        False, False]),\n",
       " array([ True,  True, False, False, False, False, False, False, False,\n",
       "         True, False, False, False,  True, False,  True,  True,  True,\n",
       "         True, False])]"
      ]
     },
     "execution_count": 86,
     "metadata": {},
     "output_type": "execute_result"
    }
   ],
   "source": [
    "def assignment_indices(df, assignments):\n",
    "    idxs = [df.index.isin(a) for a in assignments]\n",
    "    total_assignments = np.add(*idxs) if len(idxs) > 1 else idxs[0]\n",
    "    if not total_assignments.min():\n",
    "        idxs.append(~total_assignments)\n",
    "    return idxs\n",
    "\n",
    "assignment_indices(df, [assignment, [3, 5]])"
   ]
  },
  {
   "cell_type": "code",
   "execution_count": 89,
   "metadata": {},
   "outputs": [],
   "source": [
    "def mahalanobis(df, assignments, agg_assign=np.max):\n",
    "    means = [df.loc[idx].mean() \n",
    "             for idx in assignment_indices(df, assignments)]\n",
    "    inverse_cov = np.linalg.inv(df.cov())\n",
    "    mean_diffs = [m1 - m2 for m1, m2 in combinations(means, 2)]    \n",
    "    return agg_assign([mean_diff @ inverse_cov @ mean_diff for mean_diff in mean_diffs])"
   ]
  },
  {
   "cell_type": "code",
   "execution_count": 90,
   "metadata": {},
   "outputs": [
    {
     "data": {
      "text/plain": [
       "0.2936079472756157"
      ]
     },
     "execution_count": 90,
     "metadata": {},
     "output_type": "execute_result"
    }
   ],
   "source": [
    "mahalanobis(df, [assignment])"
   ]
  },
  {
   "cell_type": "code",
   "execution_count": 91,
   "metadata": {},
   "outputs": [],
   "source": [
    "from statsmodels.formula.api import ols"
   ]
  },
  {
   "cell_type": "code",
   "execution_count": 111,
   "metadata": {},
   "outputs": [],
   "source": [
    "model = ols('a ~ 1 + t1', data=pd.concat((df, \n",
    "                                     pd.DataFrame(df.index.isin(assignment), \n",
    "                                                  columns=['t1'])), \n",
    "                                     axis=1)\n",
    "           )    "
   ]
  },
  {
   "cell_type": "code",
   "execution_count": 112,
   "metadata": {},
   "outputs": [],
   "source": [
    "res = model.fit()"
   ]
  },
  {
   "cell_type": "code",
   "execution_count": 113,
   "metadata": {},
   "outputs": [
    {
     "data": {
      "text/plain": [
       "0.804341767046624"
      ]
     },
     "execution_count": 113,
     "metadata": {},
     "output_type": "execute_result"
    }
   ],
   "source": [
    "res.pvalues.iloc[1]"
   ]
  },
  {
   "cell_type": "code",
   "execution_count": 134,
   "metadata": {},
   "outputs": [],
   "source": [
    "def ols_on_treatment(col, df, assignments):\n",
    "    treatment_dummies = pd.DataFrame(\n",
    "        dict((('t{}'.format(i), df.index.isin(assignment)) for i, assignment in enumerate(assignments)))\n",
    "    )\n",
    "    data = pd.concat((df, treatment_dummies), axis=1)\n",
    "    return ols('{} ~ 1 + {}'.format(col, ' + '.join(treatment_dummies.columns)), \n",
    "               data=data).fit()\n",
    "\n",
    "\n",
    "def pvalues(df, assignment):\n",
    "    return dict((col, \n",
    "                 ols_on_treatment(col, df, assignment).pvalues.iloc[1:].values) for col in df.columns)    "
   ]
  },
  {
   "cell_type": "code",
   "execution_count": 135,
   "metadata": {},
   "outputs": [
    {
     "data": {
      "text/plain": [
       "{'a': array([0.75684724, 0.10910286]),\n",
       " 'b': array([0.5041254 , 0.81092755]),\n",
       " 'c': array([0.31942912, 0.32077432])}"
      ]
     },
     "execution_count": 135,
     "metadata": {},
     "output_type": "execute_result"
    }
   ],
   "source": [
    "pvalues(df, [assignment, [3, 5]])"
   ]
  },
  {
   "cell_type": "code",
   "execution_count": 156,
   "metadata": {},
   "outputs": [],
   "source": [
    "class NumericFunction:\n",
    "    @classmethod\n",
    "    def numerize(cls, f):\n",
    "        return NumericFunction(f)\n",
    "    \n",
    "    def __init__(self, f):\n",
    "        self.func = f\n",
    "        \n",
    "    def __call__(self, x):\n",
    "        return self.func(x)\n",
    "    \n",
    "    def __add__(self, other):\n",
    "        return self.numerize(lambda x: self(x) + other(x))\n",
    "    \n",
    "    def __radd__(self, other):\n",
    "        return self.__add__(self, other)\n",
    "    \n",
    "    def __mul__(self, other):\n",
    "        if isinstance(other, numbers.Number):\n",
    "            return self.numerize(lambda x: self(x) * other)\n",
    "        else:\n",
    "            return self.numerize(lambda x: self(x) * other(x))\n",
    "        \n",
    "    def __rmul__(self, other):\n",
    "        return self.__mul__(other)\n",
    "    \n",
    "    @property\n",
    "    def __str__(self):\n",
    "        return 'NumericFunction: number valued function'\n",
    "\n",
    "    \n",
    "@NumericFunction.numerize\n",
    "def f(x):\n",
    "    x1, x2 = x\n",
    "    return 2 * x1 + 3 * x2 \n",
    "\n",
    "def g(x):\n",
    "    x1, x2 = x\n",
    "    return 3 * x1\n",
    "\n",
    "h = .6 * f + g"
   ]
  },
  {
   "cell_type": "code",
   "execution_count": 157,
   "metadata": {},
   "outputs": [
    {
     "data": {
      "text/plain": [
       "7.8"
      ]
     },
     "execution_count": 157,
     "metadata": {},
     "output_type": "execute_result"
    }
   ],
   "source": [
    "h((1, 2))"
   ]
  },
  {
   "cell_type": "code",
   "execution_count": 182,
   "metadata": {},
   "outputs": [
    {
     "data": {
      "text/plain": [
       "(    a\n",
       " 0   0\n",
       " 1   0\n",
       " 2   2\n",
       " 3   2\n",
       " 4   0\n",
       " 5   0\n",
       " 6   0\n",
       " 7   1\n",
       " 8   2\n",
       " 9   0\n",
       " 10  0\n",
       " 11  1\n",
       " 12  0\n",
       " 13  2\n",
       " 14  1\n",
       " 15  1\n",
       " 16  1\n",
       " 17  0\n",
       " 18  0\n",
       " 19  0, {2, 3, 5, 7, 10, 12, 15, 17, 18, 19})"
      ]
     },
     "execution_count": 182,
     "metadata": {},
     "output_type": "execute_result"
    }
   ],
   "source": [
    "df = pd.DataFrame(data=np.random.randint(0, 3, 20), columns=['a'])\n",
    "assignment = assignment = set(np.random.choice(df.index, size=10, replace=False))\n",
    "df, assignment"
   ]
  },
  {
   "cell_type": "code",
   "execution_count": 194,
   "metadata": {},
   "outputs": [
    {
     "name": "stdout",
     "output_type": "stream",
     "text": [
      "    0  1  2\n",
      "t0  6  2  2\n",
      "t1  5  3  2 \n",
      "\n",
      "0    0.090909\n",
      "1    0.200000\n",
      "2    0.000000\n",
      "dtype: float64\n"
     ]
    }
   ],
   "source": [
    "def count_by_col(col, df, assignments):\n",
    "    cat = sorted(list(set(df[col])))\n",
    "    idxs = assignment_indices(df, assignments)\n",
    "    count = [[sum(df[col].loc[idx]==v) for v in cat] for idx in idxs]\n",
    "        \n",
    "    return pd.DataFrame(data=count, columns=cat, index=['t{}'.format(i) for i in range(len(idxs))])\n",
    "    \n",
    "\n",
    "def relative_block_balance(df_count, agg_assignments=lambda x: np.max(np.abs(x),axis=0)):\n",
    "    relative_dev = (df_count - df_count.median())/df_count.median()\n",
    "    return agg_assignments(relative_dev)\n",
    "                           \n",
    "print(count_by_col('a', df, [assignment]), '\\n')\n",
    "print(relative_block_balance(count_by_col('a', df, [assignment])))"
   ]
  },
  {
   "cell_type": "code",
   "execution_count": 172,
   "metadata": {},
   "outputs": [
    {
     "data": {
      "text/plain": [
       "[('a', 1), ('a', 2), ('b', 1), ('b', 2)]"
      ]
     },
     "execution_count": 172,
     "metadata": {},
     "output_type": "execute_result"
    }
   ],
   "source": [
    "from itertools import product\n",
    "[(a, b) for a, b in product(['a', 'b'], [1, 2])]"
   ]
  },
  {
   "cell_type": "code",
   "execution_count": 173,
   "metadata": {},
   "outputs": [
    {
     "data": {
      "text/plain": [
       "[('a', 1), ('a', 2), ('b', 1), ('b', 2)]"
      ]
     },
     "execution_count": 173,
     "metadata": {},
     "output_type": "execute_result"
    }
   ],
   "source": [
    "[(a, b) for a in ['a', 'b'] for b in [1, 2]]"
   ]
  },
  {
   "cell_type": "code",
   "execution_count": null,
   "metadata": {},
   "outputs": [],
   "source": []
  }
 ],
 "metadata": {
  "kernelspec": {
   "display_name": "Python 3",
   "language": "python",
   "name": "python3"
  },
  "language_info": {
   "codemirror_mode": {
    "name": "ipython",
    "version": 3
   },
   "file_extension": ".py",
   "mimetype": "text/x-python",
   "name": "python",
   "nbconvert_exporter": "python",
   "pygments_lexer": "ipython3",
   "version": "3.6.9"
  }
 },
 "nbformat": 4,
 "nbformat_minor": 2
}
